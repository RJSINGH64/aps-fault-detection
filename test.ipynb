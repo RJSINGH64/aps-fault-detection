{
 "cells": [
  {
   "cell_type": "code",
   "execution_count": 7,
   "metadata": {},
   "outputs": [
    {
     "name": "stdout",
     "output_type": "stream",
     "text": [
      "saved_models\\1\\target_encoder\\target_encoder.pkl\n"
     ]
    }
   ],
   "source": [
    "from sensor.predictor import ModelResolver\n",
    "\n",
    "model_res= ModelResolver()\n",
    "\n",
    "\n",
    "print(model_res.get_latest_target_encoder_path())"
   ]
  },
  {
   "cell_type": "code",
   "execution_count": null,
   "metadata": {},
   "outputs": [],
   "source": [
    "FROM python:3.8\n",
    "USER root\n",
    "RUN mkdir /app\n",
    "COPY . /app/\n",
    "WORKDIR /app/\n",
    "RUN pip3 install -r requirements.txt\n",
    "ENV AIRFLOW_HOME=\"/app/airflow\"\n",
    "ENV AIRFLOW__CORE__DAGBAG_IMPORT_TIMEOUT=1000\n",
    "ENV AIRFLOW__CORE__ENABLE_XCOM_PICKLING=True\n",
    "RUN airflow db init \n",
    "RUN airflow users create  -e rajat.k.singh64@gmail.com -f Rajat -l Singh -p admin -r Admin  -u admin\n",
    "RUN chmod 777 start.sh\n",
    "RUN apt update -y && apt install awscli -y\n",
    "ENTRYPOINT [ \"/bin/sh\" ]\n",
    "CMD [\"start.sh\"]"
   ]
  }
 ],
 "metadata": {
  "kernelspec": {
   "display_name": "Python 3",
   "language": "python",
   "name": "python3"
  },
  "language_info": {
   "codemirror_mode": {
    "name": "ipython",
    "version": 3
   },
   "file_extension": ".py",
   "mimetype": "text/x-python",
   "name": "python",
   "nbconvert_exporter": "python",
   "pygments_lexer": "ipython3",
   "version": "3.8.0"
  }
 },
 "nbformat": 4,
 "nbformat_minor": 2
}
